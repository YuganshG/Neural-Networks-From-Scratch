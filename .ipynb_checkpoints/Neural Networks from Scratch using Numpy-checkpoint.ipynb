{
 "cells": [
  {
   "cell_type": "code",
   "execution_count": 1,
   "id": "6e147a26-9aff-49ac-8c9f-a606654ccd93",
   "metadata": {},
   "outputs": [],
   "source": [
    "import numpy as np\n",
    "import math\n",
    "import time\n",
    "import os\n",
    "import matplotlib.pyplot as plt"
   ]
  },
  {
   "cell_type": "code",
   "execution_count": null,
   "id": "5b7df645-271a-4c1e-aeca-d02f9e737f31",
   "metadata": {},
   "outputs": [],
   "source": []
  },
  {
   "cell_type": "markdown",
   "id": "8a88342a-5f21-4ca6-b3b1-919f37ea0f97",
   "metadata": {},
   "source": [
    "Forward Propagation:"
   ]
  },
  {
   "cell_type": "code",
   "execution_count": 2,
   "id": "f5686fb3-be52-462e-8655-e724097d299e",
   "metadata": {},
   "outputs": [],
   "source": [
    "class activation_fns:\n",
    "\n",
    "    def sigmoid(self, Z):\n",
    "\n",
    "        A=1/(1+np.exp(-Z))\n",
    "        assert(A.shape == Z.shape)\n",
    "\n",
    "        return A\n",
    "\n",
    "    def ReLU(self, Z):\n",
    "\n",
    "        A = np.maximum(0,Z)\n",
    "        assert(A.shape == Z.shape)\n",
    "\n",
    "        return A\n",
    "\n",
    "    def LeakyReLU(self, Z , leakage=0.01 ):\n",
    "\n",
    "        A=np.maximum(leakage*Z,Z)\n",
    "        assert(A.shape == Z.shape)\n",
    "\n",
    "        return A\n",
    "\n",
    "    def tanh(self, Z):\n",
    "    #    check\n",
    "        A=np.tanh(Z)\n",
    "        assert(A.shape == Z.shape)\n",
    "\n",
    "        return A\n"
   ]
  },
  {
   "cell_type": "code",
   "execution_count": 3,
   "id": "f78a6c10-889a-457d-a505-fecb57322439",
   "metadata": {},
   "outputs": [],
   "source": [
    "def initialize_parameters( architecture, activation, initialization=\"random\"):\n",
    "    \n",
    "    init_epsilon=0.01\n",
    "    \n",
    "    if initialization == \"He\" or activation == \"ReLU\":\n",
    "        return initialize_parameters_he(architecture)\n",
    "    \n",
    "    if initialization == \"Xavier\" or activation == \"tanh\":\n",
    "        return initialize_parameters_xavier(architecture)\n",
    "    \n",
    "    if initialization == \"random\":\n",
    "        return initialize_parameters_random(architecture,init_epsilon)\n",
    "    \n",
    "\n",
    "def initialize_parameters_random(architecture,init_epsilon):\n",
    "    L=len(architecture)\n",
    "    \n",
    "    Theta=[None]*(L-1)\n",
    "\n",
    "    for l in range(L-1):\n",
    "        Theta[l]=np.random.randn( architecture[l+1] , architecture[l]+1 ) * (2*init_epsilon) - init_epsilon\n",
    "    \n",
    "    return Theta\n",
    "\n",
    "    \n",
    "def initialize_parameters_he(architecture):\n",
    "    L=len(architecture)\n",
    "    \n",
    "    Theta=[None]*(L-1)\n",
    "\n",
    "    for l in range(L-1):\n",
    "        Theta[l]=np.random.randn( architecture[l+1] , architecture[l]+1 ) * math.sqrt(2/architecture[l])\n",
    "        #fix previous layer_dims\n",
    "    \n",
    "    return Theta\n",
    "\n",
    "def initialize_parameters_xavier(architecture):\n",
    "    L=len(architecture)\n",
    "    \n",
    "    Theta=[None]*(L-1)\n",
    "    \n",
    "    for l in range(L-1):\n",
    "        Theta[l]=np.random.randn( architecture[l+1] , architecture[l]+1 ) * math.sqrt(1/architecture[l])\n",
    "        #fix previous layer_dims\n",
    "        \n",
    "    return Theta"
   ]
  },
  {
   "cell_type": "code",
   "execution_count": 4,
   "id": "ea04ebb7-7355-443e-89e9-c733d7dfdd3d",
   "metadata": {},
   "outputs": [],
   "source": [
    "def forward_propagate( X , Theta , activation ):\n",
    "    \n",
    "    L=len(Theta)\n",
    "    \n",
    "    Z=[None]*(L+1)\n",
    "    A=[None]*(L+1)\n",
    "\n",
    "    A[0]=X\n",
    "    \n",
    "    act_fns = activation_fns()\n",
    "    g=getattr( act_fns, activation )\n",
    "    \n",
    "    for l in range(1,L):\n",
    "        Z[l] = A[l-1] @ Theta[l-1].T\n",
    "        A[l] = g(Z[l])\n",
    "        bias= np.ones( (A[l].shape[0],1) )\n",
    "        A[l] = np.c_[ bias , A[l] ]\n",
    "    \n",
    "    g=getattr( act_fns, \"sigmoid\" )\n",
    "        \n",
    "    Z[L] = A[L-1] @ Theta[L-1].T\n",
    "    A[L] = g(Z[L])\n",
    "    y=A[L]\n",
    "    \n",
    "    return Z,A,y"
   ]
  },
  {
   "cell_type": "code",
   "execution_count": null,
   "id": "f995e535-8f6d-49c7-b771-bb84ffd89014",
   "metadata": {},
   "outputs": [],
   "source": []
  },
  {
   "cell_type": "markdown",
   "id": "3448b4e4-8ef1-4669-af93-3232d2d30eed",
   "metadata": {},
   "source": [
    "Loss function:"
   ]
  },
  {
   "cell_type": "code",
   "execution_count": 5,
   "id": "a4b69ff7-99fd-4aaf-8721-9be23b945afb",
   "metadata": {},
   "outputs": [],
   "source": [
    "def compute_cost(y,Y,Theta,Lambda):\n",
    "    \n",
    "    m=Y.shape[0]\n",
    "    J = (-1/m)*np.sum(Y*np.log(y) + (1-Y)*np.log(1-y))\n",
    "\n",
    "    reg_term=0\n",
    "    \n",
    "    for l in range(len(Theta)):\n",
    "        reg_term+=np.sum( np.power(Theta[l][:,1:],2) )\n",
    "        \n",
    "    J = J + (Lambda/(2*m))*reg_term    \n",
    "\n",
    "    return J\n"
   ]
  },
  {
   "cell_type": "code",
   "execution_count": null,
   "id": "97880da3-2888-40bd-a54e-d65f5c79b6ba",
   "metadata": {},
   "outputs": [],
   "source": []
  },
  {
   "cell_type": "markdown",
   "id": "2621b7c8-865c-4188-88c6-cef1a0be91e1",
   "metadata": {},
   "source": [
    "Backpropagation:"
   ]
  },
  {
   "cell_type": "code",
   "execution_count": 6,
   "id": "3144c5e8-2581-4512-ab7b-9f7effba6c01",
   "metadata": {},
   "outputs": [],
   "source": [
    "class activation_fns_derivative:\n",
    "\n",
    "    def dsigmoid(self, Z,A):\n",
    "\n",
    "        dg=(A*(1-A))[:,1:]\n",
    "\n",
    "        return dg\n",
    "\n",
    "    def dReLU(self, Z,A):\n",
    "\n",
    "        dg=Z.copy()\n",
    "        dg[dg <= 0] = 0\n",
    "        dg[dg > 0] = 1\n",
    "\n",
    "        return dg\n",
    "\n",
    "    def dLeakyReLU(self, Z,A,leakage=0.01):\n",
    "\n",
    "        dg=Z.copy()\n",
    "        dg[dg > 0] = 1\n",
    "        dg[dg <= 0] = leakage\n",
    "\n",
    "        return dg\n",
    "\n",
    "    def dtanh(self, Z,A):\n",
    "    #    check\n",
    "\n",
    "        dg=(1-np.power(A,2))[:,1:]\n",
    "\n",
    "        return dg\n"
   ]
  },
  {
   "cell_type": "code",
   "execution_count": 7,
   "id": "5e17564d-c7a8-4937-ba6e-e809fe702fc6",
   "metadata": {},
   "outputs": [],
   "source": [
    "def compute_gradients(Theta,Lambda,Z,A,Y,activation):\n",
    "    \n",
    "    m=Y.shape[0]\n",
    "    L=len(Theta)\n",
    "    Err=[None]*(L+1)  #L\n",
    "    \n",
    "    act_fns_derivative = activation_fns_derivative()\n",
    "    dg=getattr( act_fns_derivative , str(\"d\")+activation )\n",
    "    \n",
    "    Err[L]=A[L]-Y\n",
    "    \n",
    "    for l in range(L-1,0,-1):\n",
    "        Err[l] = (Err[l+1]@Theta[l])[:,1:] * dg(Z[l],A[l])  \n",
    "    \n",
    "    Acc=[None]*(L+1)\n",
    "    \n",
    "    for l in range(L-1,-1,-1):\n",
    "        Acc[l] = Err[l+1].T @ A[l]\n",
    "        \n",
    "    Theta_grad=[None]*(L)\n",
    "    \n",
    "    for l in range(L):\n",
    "        Theta_grad[l] = (1/m)*Acc[l] + (Lambda/m)*np.c_[ np.zeros((Theta[l].shape[0] , 1)) , Theta[l][:,1:] ]\n",
    "        \n",
    "    return Theta_grad\n",
    "        \n",
    "    \n",
    "         "
   ]
  },
  {
   "cell_type": "code",
   "execution_count": null,
   "id": "63f11d6b-68fd-4ef1-8ed6-44ad4b04a796",
   "metadata": {},
   "outputs": [],
   "source": []
  },
  {
   "cell_type": "markdown",
   "id": "dc28254e-39f5-4302-9155-7ebcdc838c10",
   "metadata": {},
   "source": [
    "Optimizer:"
   ]
  },
  {
   "cell_type": "code",
   "execution_count": 8,
   "id": "fae9d29c-bcdd-4282-b2a9-6e9e84375fbe",
   "metadata": {},
   "outputs": [],
   "source": [
    "def gradientDescent(Theta,Theta_grad,alpha):\n",
    "    \n",
    "    L=len(Theta)\n",
    "    \n",
    "    for l in range(L):\n",
    "        Theta[l] = Theta[l] - alpha*Theta_grad[l]     \n",
    "        \n",
    "        #check equation\n",
    "    \n",
    "    \n",
    "    return Theta    "
   ]
  },
  {
   "cell_type": "code",
   "execution_count": null,
   "id": "2ccf27b0-f2e6-41a0-b05b-5f93a0f17a4e",
   "metadata": {},
   "outputs": [],
   "source": []
  },
  {
   "cell_type": "code",
   "execution_count": null,
   "id": "b5d2fde4-0d2a-411c-85dc-f866c236c844",
   "metadata": {},
   "outputs": [],
   "source": []
  },
  {
   "cell_type": "markdown",
   "id": "e0f4a8af-b5b0-4134-853b-1166144ff20d",
   "metadata": {},
   "source": [
    "Neural Network:"
   ]
  },
  {
   "cell_type": "code",
   "execution_count": 9,
   "id": "0e9798a5-8b13-4c15-b60c-97c2d7789d8a",
   "metadata": {},
   "outputs": [],
   "source": [
    "def DNN(X,Y,architecture,optimizer,alpha,Lambda,model_dir,activation,iterations,initialization=\"random\" ):\n",
    "    \n",
    "    print(\"\\nData Analysis...\\n\")\n",
    "    print(\"Number of Samples : \"+str(X.shape[0]))\n",
    "    print(\"Number of features : \"+str(X.shape[1]-1))  #bias added\n",
    "    print(\"Number of Output Units : \"+str(Y.shape[1]))\n",
    "    \n",
    "    if not os.path.exists(model_dir):\n",
    "        os.makedirs(model_dir)\n",
    "        print(\"\\nDirectory \"+model_dir+\" Created\")\n",
    "    else:\n",
    "        print(\"\\nDirectory \"+model_dir+ \" already exists\")    \n",
    "    \n",
    "    Theta = initialize_parameters(architecture,activation,initialization)\n",
    "    \n",
    "    print(\"\\nInitialialising Neural Network Training...\\n\")\n",
    "    \n",
    "    tic = time.time()\n",
    "    \n",
    "    cost=list()\n",
    "    \n",
    "    for i in range(iterations):\n",
    "        Z,A,y = forward_propagate(X,Theta,activation)\n",
    "        J=compute_cost(y,Y,Theta,Lambda)\n",
    "        \n",
    "        if i%100 == 0:\n",
    "            print(\"Cost at iteration \"+str(i)+\" : \"+str(J))\n",
    "            cost.append(J)\n",
    "        \n",
    "        Theta_grad = compute_gradients(Theta,Lambda,Z,A,Y,activation)\n",
    "\n",
    "        Theta = gradientDescent(Theta,Theta_grad,alpha)\n",
    "        \n",
    "        if i%10000 == 0:                #model_save_interval, account for Adam\n",
    "            np.save(model_dir+\"/model_itr_\"+str(i)+\".npy\",Theta)\n",
    "\n",
    "    print(\"\\nProgress of Loss over iterations:\")\n",
    "    plot_cost(cost, iterations)\n",
    "    \n",
    "    np.save(model_dir+\"/final_model.npy\",Theta)\n",
    "    \n",
    "    toc=time.time()\n",
    "    \n",
    "    print(\"\\nTraining time : \"+str(round(toc-tic,3))+\" s\\n\")\n",
    "   \n",
    "    return Theta\n"
   ]
  },
  {
   "cell_type": "code",
   "execution_count": 10,
   "id": "680695cc-a7df-4021-abb8-5bcd2f292be2",
   "metadata": {},
   "outputs": [],
   "source": [
    "def plot_cost(losses, nepochs):\n",
    "    \n",
    "    nepochs = list(range(0,nepochs,100))\n",
    "    \n",
    "    plt.figure()\n",
    "    plt.xlabel('Epochs')\n",
    "    plt.ylabel('Cost')\n",
    "    plt.plot(nepochs, losses, 'm', linewidth = \"5\")\n",
    "    plt.show()"
   ]
  },
  {
   "cell_type": "code",
   "execution_count": 11,
   "id": "0269562c-ef88-4d84-8a57-79ce28ef10cb",
   "metadata": {},
   "outputs": [],
   "source": [
    "def predict(X , Theta , activation):\n",
    "\n",
    "    Z,A,y=forward_propagate(X,Theta,activation)\n",
    "\n",
    "    return y"
   ]
  },
  {
   "cell_type": "code",
   "execution_count": null,
   "id": "b421db9f-72b5-4a71-885d-dc92ad3f2204",
   "metadata": {},
   "outputs": [],
   "source": []
  },
  {
   "cell_type": "code",
   "execution_count": null,
   "id": "13f0121c-2c2c-4333-bf76-15cf4cec5752",
   "metadata": {},
   "outputs": [],
   "source": []
  },
  {
   "cell_type": "markdown",
   "id": "ffbafdc1-1b80-42c9-b3e4-fd48569bdb6c",
   "metadata": {},
   "source": [
    "Evaluation:"
   ]
  },
  {
   "cell_type": "code",
   "execution_count": 12,
   "id": "0148cb52-4db3-47e8-b645-b08ddbdb0f34",
   "metadata": {},
   "outputs": [],
   "source": [
    "def evaluate( X, Y, Theta, activation, settype =\"Train\", X_test=None, Y_test=None):\n",
    "\n",
    "    y=predict(X,Theta,activation)\n",
    "    \n",
    "    J=compute_cost(y,Y,Theta,Lambda=0)\n",
    "    \n",
    "    y=(y > 0.5).astype(int)\n",
    "\n",
    "    TP=np.sum((y==1)&(Y==1))\n",
    "    FP=np.sum((y==1)&(Y==0))\n",
    "    FN=np.sum((y==0)&(Y==1))\n",
    "    TN=np.sum((y==0)&(Y==0))\n",
    "\n",
    "    Precision = TP/(TP+FP)\n",
    "    Recall = TP/(TP+FN)\n",
    "\n",
    "    F1_score = 2*Precision*Recall / (Precision + Recall)\n",
    "\n",
    "    accuracy=100 - np.mean(np.abs(Y - y))*100\n",
    "    \n",
    "    print(\"---Running Diagnostics on \"+settype+\" Set ---\\n\")\n",
    "    print(\"True Positive --> \"+str(TP))\n",
    "    print(\"False Positive --> \"+str(FP))\n",
    "    print(\"False Negative --> \"+str(FN))\n",
    "    print(\"True Negative --> \"+str(TN))\n",
    "    \n",
    "    print(\"\\nFinal \"+settype+\" Set Cost : \"+str(round(J,3)))            #test and train final cost\n",
    "    print(settype+\" Accuracy = \"+str(accuracy)+\"%\")\n",
    "\n",
    "    print(\"\\nf1 Score = \"+str(round(F1_score,4))+\"\\n\")\n",
    "\n",
    "    if settype == \"Train\":\n",
    "        if X_test is not None :\n",
    "            evaluate( X_test, Y_test, Theta, activation, settype =\"Test\")\n",
    "\n",
    "    if settype == \"Test\":\n",
    "        return\n"
   ]
  },
  {
   "cell_type": "code",
   "execution_count": null,
   "id": "de0a2f03-2fd0-4076-b929-7e8c83d0dfa4",
   "metadata": {},
   "outputs": [],
   "source": []
  },
  {
   "cell_type": "markdown",
   "id": "28555171-6c28-4a87-901d-89bb3aea89ab",
   "metadata": {},
   "source": [
    "Helper functions:"
   ]
  },
  {
   "cell_type": "code",
   "execution_count": 13,
   "id": "94c96225-bda0-489e-a37c-2681f9ad05f8",
   "metadata": {},
   "outputs": [],
   "source": [
    "def add_bias(x):\n",
    "    \n",
    "    X=np.c_[np.ones((x.shape[0],1)),x]\n",
    "    \n",
    "    return X"
   ]
  },
  {
   "cell_type": "code",
   "execution_count": 14,
   "id": "1a2d3b04-2937-4a39-bf31-acd914cace7d",
   "metadata": {},
   "outputs": [],
   "source": [
    "def normalize(X):\n",
    "    \n",
    "    mu=np.mean(X,axis=0,keepdims=True)\n",
    "    sigma=np.std(X,axis=0,keepdims=True)\n",
    "    \n",
    "    X_norm=(X-mu)/sigma\n",
    "    \n",
    "    return X_norm,mu,sigma"
   ]
  },
  {
   "cell_type": "code",
   "execution_count": null,
   "id": "4484244d-c50b-433d-844b-0249fc4a4672",
   "metadata": {},
   "outputs": [],
   "source": []
  },
  {
   "cell_type": "markdown",
   "id": "5306fb70-5e87-42c8-ae5a-cfb957b11cec",
   "metadata": {},
   "source": [
    "Using Neural Networks for Iris Classification:"
   ]
  },
  {
   "cell_type": "code",
   "execution_count": 15,
   "id": "eb456a73-b25a-47dc-bf37-0dca45fb3159",
   "metadata": {},
   "outputs": [],
   "source": [
    "from sklearn import datasets"
   ]
  },
  {
   "cell_type": "code",
   "execution_count": 18,
   "id": "cb0f3b5d-d1e0-4c5c-a2e0-030319825dfe",
   "metadata": {},
   "outputs": [
    {
     "name": "stdout",
     "output_type": "stream",
     "text": [
      "\n",
      "Data Analysis...\n",
      "\n",
      "Number of Samples : 150\n",
      "Number of features : 2\n",
      "Number of Output Units : 3\n",
      "\n",
      "Directory IrisClassifier already exists\n",
      "\n",
      "Initialialising Neural Network Training...\n",
      "\n",
      "Cost at iteration 0 : 2.0495447612480007\n",
      "Cost at iteration 100 : 1.466521364770246\n",
      "Cost at iteration 200 : 0.9961383398324473\n",
      "Cost at iteration 300 : 0.9633615776721774\n",
      "Cost at iteration 400 : 0.9358450749158442\n",
      "Cost at iteration 500 : 0.948024554360271\n",
      "Cost at iteration 600 : 0.9429796692093216\n",
      "Cost at iteration 700 : 0.938711039282065\n",
      "Cost at iteration 800 : 0.9344362910860576\n",
      "Cost at iteration 900 : 0.9300980582033506\n",
      "\n",
      "Progress of Loss over iterations:\n"
     ]
    },
    {
     "data": {
      "image/png": "[encoded data removed]",
      "text/plain": [
       "<Figure size 432x288 with 1 Axes>"
      ]
     },
     "metadata": {
      "needs_background": "light"
     },
     "output_type": "display_data"
    },
    {
     "name": "stdout",
     "output_type": "stream",
     "text": [
      "\n",
      "Training time : 0.202 s\n",
      "\n"
     ]
    }
   ],
   "source": [
    "iris = datasets.load_iris()\n",
    "\n",
    "X=iris.data[:,:2]\n",
    "Y=iris.target\n",
    "\n",
    "X=np.c_[np.ones((X.shape[0],1)),X]\n",
    "\n",
    "num_labels=3\n",
    "Y=np.expand_dims(Y,axis=1)\n",
    "\n",
    "Y=np.c_[Y,np.zeros((Y.shape[0],num_labels-1))]\n",
    "Y=Y.astype(int)\n",
    "\n",
    "for i in range(Y.shape[0]):\n",
    "    if( Y[i,0] != 1 ):    \n",
    "        Y[i,Y[i,0]-1]=1\n",
    "        Y[i,0]=0\n",
    "\n",
    "architecture=[2,10,3]\n",
    "alpha=0.9\n",
    "Lambda=0\n",
    "model_dir=\"IrisClassifier\"\n",
    "iterations=1000\n",
    "optimizer=\"gradientDescent\"\n",
    "activation=\"sigmoid\"\n",
    "\n",
    "Theta=DNN(X,Y,architecture,optimizer,alpha,Lambda,model_dir,activation,iterations)"
   ]
  },
  {
   "cell_type": "code",
   "execution_count": 19,
   "id": "652c18e9-7715-4e2d-bede-6c815cc03f96",
   "metadata": {},
   "outputs": [
    {
     "name": "stdout",
     "output_type": "stream",
     "text": [
      "---Running Diagnostics on Train Set ---\n",
      "\n",
      "True Positive --> 95\n",
      "False Positive --> 37\n",
      "False Negative --> 55\n",
      "True Negative --> 263\n",
      "\n",
      "Final Train Set Cost : 0.926\n",
      "Train Accuracy = 79.55555555555556%\n",
      "\n",
      "f1 Score = 0.6738\n",
      "\n"
     ]
    }
   ],
   "source": [
    "evaluate(X,Y,Theta,activation, settype =\"Train\")"
   ]
  },
  {
   "cell_type": "code",
   "execution_count": null,
   "id": "e1117afc-0965-47c7-a76c-96432a829037",
   "metadata": {},
   "outputs": [],
   "source": []
  }
 ],
 "metadata": {
  "kernelspec": {
   "display_name": "Python 3 (ipykernel)",
   "language": "python",
   "name": "python3"
  },
  "language_info": {
   "codemirror_mode": {
    "name": "ipython",
    "version": 3
   },
   "file_extension": ".py",
   "mimetype": "text/x-python",
   "name": "python",
   "nbconvert_exporter": "python",
   "pygments_lexer": "ipython3",
   "version": "3.10.3"
  }
 },
 "nbformat": 4,
 "nbformat_minor": 5
}
